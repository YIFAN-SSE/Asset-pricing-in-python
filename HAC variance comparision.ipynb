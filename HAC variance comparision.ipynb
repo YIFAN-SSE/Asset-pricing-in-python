{
 "cells": [
  {
   "cell_type": "code",
   "execution_count": 4,
   "metadata": {},
   "outputs": [
    {
     "name": "stdout",
     "output_type": "stream",
     "text": [
      "   Coefficient  Hansen and Hodrick  Newey and West  Usual se\n",
      "0     0.176569            0.058642        0.058642  0.028844\n",
      "1    -0.029686            0.127908        0.107127  0.029519\n",
      "2    -0.133088            0.098425        0.130145  0.029578\n",
      "3    -0.261167            0.055644        0.081523  0.025294\n",
      "4    -0.426142            0.068754        0.073599  0.020926\n",
      "5    -0.452402            0.070975        0.087591  0.021227\n",
      "6    -0.307614            0.132483        0.127692  0.024342\n",
      "7    -0.316318            0.180330        0.154566  0.026594\n",
      "8    -0.305459            0.191501        0.151243  0.026230\n"
     ]
    }
   ],
   "source": [
    "# The code below computes the HAC standard errors of the regression coefficients using the Hansen and Hodrick (1980) method\n",
    "# Python has a package called statsmodels that can compute the HAC standard errors (Newey West) of the regression coefficients\n",
    "# This code supplements the method of Hansen and Hodrick (1980) method.\n",
    "# The regression is Y = a + bX + e, where Y is the postretrun and X is the prereturn\n",
    "# The residuals are followed MA(k-1) process\n",
    "import numpy as np\n",
    "import pandas as pd\n",
    "import statsmodels.api as sm  # Need to install (pip install statsmodels)\n",
    "\n",
    "def compute_hansen_hodrick_covariance(model, X, K):\n",
    "    T, p = X.shape\n",
    "    residuals = model.resid.values.reshape(-1, 1)\n",
    "    XtX = np.dot(X.T, X) / T\n",
    "    S_0 = np.zeros((p, p))\n",
    "    \n",
    "    for t in range(T):\n",
    "        epsilon_sq = residuals[t] ** 2\n",
    "        x_t = X[t].reshape(-1, 1)\n",
    "        S_0 += epsilon_sq * np.dot(x_t, x_t.T)\n",
    "    S_0 /= T\n",
    "    \n",
    "    for j in range(1, K):\n",
    "        for t in range(j, T):\n",
    "            epsilon = residuals[t]\n",
    "            epsilon_j = residuals[t - j]\n",
    "            x_t = X[t].reshape(-1, 1)\n",
    "            x_t_j = X[t - j].reshape(-1, 1)\n",
    "            S_0 += (1 / T) * (epsilon * epsilon_j * (np.dot(x_t, x_t_j.T) + np.dot(x_t_j, x_t.T)))\n",
    "    \n",
    "    S_inv = np.linalg.inv(S_0)\n",
    "    hac_hh = np.linalg.inv(XtX @ S_inv @ XtX) / T\n",
    "    \n",
    "    return hac_hh\n",
    "\n",
    "# Import the data, replace your code with your own data path\n",
    "# Get the residuals of the regression Y on X, where Y is the postretrun and X is the prereturn\n",
    "# The residuals are followed MA(k-1) process\n",
    "# Calculate the HAC covariance matrix of the residuals using two different methods: Hansen and Hodrick (1980) and Newey and West (1987)\n",
    "\n",
    "data = pd.read_excel('Assignment2Data.xlsx', sheet_name='FamaFrenchSize')\n",
    "data['Small'] /= 100\n",
    "data['Medium'] /= 100\n",
    "data['Big'] /= 100\n",
    "data['r_small'] = np.log(data['Small'] + 1)\n",
    "data['r_medium'] = np.log(data['Medium'] + 1)\n",
    "data['r_big'] = np.log(data['Big'] + 1)\n",
    "\n",
    "Paramaters = {'Coefficient': [], 'Hansen and Hodrick': [], 'Newey and West': [], 'Usual se': []}\n",
    "# First, using small portfolio as sample for example.\n",
    "\n",
    "K = [1, 12, 24, 36, 48, 60, 72, 96, 120] # The window size\n",
    "for k in K:\n",
    "    data['Pre_return'] = data['r_small'].rolling(window=k).sum()\n",
    "    data['Post_return'] = data['r_small'].shift(-k).rolling(window=k).sum()\n",
    "    sample = data.dropna(subset=['Pre_return', 'Post_return'])\n",
    "    X = sm.add_constant(sample['Pre_return'])\n",
    "    y = sample['Post_return']\n",
    "    model = sm.OLS(y, X).fit()\n",
    "    \n",
    "    hac_hh = compute_hansen_hodrick_covariance(model, X.values, k-1)\n",
    "    stand_error = np.sqrt(np.diag(hac_hh))\n",
    "    \n",
    "    Paramaters['Coefficient'].append(model.params.iloc[1])\n",
    "    Paramaters['Hansen and Hodrick'].append(stand_error[1])\n",
    "    Paramaters['Usual se'].append(model.bse.iloc[1])\n",
    "    nw_se = model.get_robustcov_results(cov_type='HAC', maxlags=k-1).bse[1]\n",
    "    Paramaters['Newey and West'].append(nw_se)\n",
    "Paramaters=pd.DataFrame(Paramaters)\n",
    "print(Paramaters)\n"
   ]
  }
 ],
 "metadata": {
  "kernelspec": {
   "display_name": "Python 3",
   "language": "python",
   "name": "python3"
  },
  "language_info": {
   "codemirror_mode": {
    "name": "ipython",
    "version": 3
   },
   "file_extension": ".py",
   "mimetype": "text/x-python",
   "name": "python",
   "nbconvert_exporter": "python",
   "pygments_lexer": "ipython3",
   "version": "3.12.1"
  }
 },
 "nbformat": 4,
 "nbformat_minor": 2
}
